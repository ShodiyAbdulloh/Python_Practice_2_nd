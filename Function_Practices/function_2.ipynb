{
 "cells": [
  {
   "cell_type": "code",
   "execution_count": null,
   "id": "54ae9505",
   "metadata": {},
   "outputs": [
    {
     "name": "stdout",
     "output_type": "stream",
     "text": [
      "4\n"
     ]
    }
   ],
   "source": [
    "#1 Robotni turgan  positisiyasi  berilgan va robotni ishlash qoidasiga kora chapdan onga xarakatlanadi va berilgan buyruq songa ko'ra 3 marta xarakatlanadi va bir marta orqaga xarakatlanadi. Robotni yangi joyini topadigan funksiya yarating:\n",
    "# Masalan  start=0 buyruq=2 natija 4\n",
    "\n",
    "\n",
    "def yangi_joy(start,buyruq):\n",
    "    yangi_joy = start+buyruq*2\n",
    "    return yangi_joy\n",
    "\n",
    "start=0\n",
    "buyruq=2\n",
    "natija= yangi_joy(start,buyruq)\n",
    "\n",
    "print(natija)"
   ]
  },
  {
   "cell_type": "code",
   "execution_count": 8,
   "id": "6623f1c9",
   "metadata": {},
   "outputs": [
    {
     "data": {
      "text/plain": [
       "27"
      ]
     },
     "execution_count": 8,
     "metadata": {},
     "output_type": "execute_result"
    }
   ],
   "source": [
    "#2 Berilgan  2 ta kubnining orqasidan eng kattasini toping(1 qator kod orqali)\n",
    "\n",
    "def kub(x, y):\n",
    "    return max(x**3, y**3)\n",
    "\n",
    "kub(2,3)"
   ]
  },
  {
   "cell_type": "code",
   "execution_count": 6,
   "id": "cb13908b",
   "metadata": {},
   "outputs": [
    {
     "data": {
      "text/plain": [
       "'Uzbekistandan'"
      ]
     },
     "execution_count": 6,
     "metadata": {},
     "output_type": "execute_result"
    }
   ],
   "source": [
    "#3 Berilgan so'zdagi eng uzun so'zni toping agar so'z bosh bolsa [ ] ni qaytaring\n",
    "\n",
    "\n",
    "def sozni_toping(soz):\n",
    "    if not soz.strip():\n",
    "        return []\n",
    "    return max(soz.split(), key=len)\n",
    "\n",
    "sozni_toping(\"Men Uzbekistandan kelganman\")"
   ]
  },
  {
   "cell_type": "code",
   "execution_count": 7,
   "id": "fc5e110c",
   "metadata": {},
   "outputs": [
    {
     "data": {
      "text/plain": [
       "-448"
      ]
     },
     "execution_count": 7,
     "metadata": {},
     "output_type": "execute_result"
    }
   ],
   "source": [
    "#4 Berilgan  2 ta kubnining  hajmi orasidagi farqni toping\n",
    "\n",
    "\n",
    "def farqini_toping(x,y):\n",
    "    return (x**3-y**3)\n",
    "\n",
    "farqini_toping (4,8)"
   ]
  },
  {
   "cell_type": "code",
   "execution_count": null,
   "id": "88384a05",
   "metadata": {},
   "outputs": [],
   "source": []
  }
 ],
 "metadata": {
  "kernelspec": {
   "display_name": "Python 3",
   "language": "python",
   "name": "python3"
  },
  "language_info": {
   "codemirror_mode": {
    "name": "ipython",
    "version": 3
   },
   "file_extension": ".py",
   "mimetype": "text/x-python",
   "name": "python",
   "nbconvert_exporter": "python",
   "pygments_lexer": "ipython3",
   "version": "3.13.2"
  }
 },
 "nbformat": 4,
 "nbformat_minor": 5
}
