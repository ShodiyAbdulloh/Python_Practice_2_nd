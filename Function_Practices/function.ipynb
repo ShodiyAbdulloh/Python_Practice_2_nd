{
 "cells": [
  {
   "cell_type": "markdown",
   "id": "1e382679",
   "metadata": {},
   "source": [
    "# Uyga Vazifa"
   ]
  },
  {
   "cell_type": "code",
   "execution_count": 2,
   "id": "ea088dd9",
   "metadata": {},
   "outputs": [
    {
     "data": {
      "text/plain": [
       "'gilos'"
      ]
     },
     "execution_count": 2,
     "metadata": {},
     "output_type": "execute_result"
    }
   ],
   "source": [
    "# List berilgan va unda bitta raqam turlicha qolganlari xar xil. Funksiya yozing va farqli sonni ekranga chiqaring\n",
    "\n",
    "def farqini_toping (x):\n",
    "    for i in x:\n",
    "        if x.count(i)==1:\n",
    "            return i\n",
    "        \n",
    "farqini_toping ([\"olma\", \"olma\", \"gilos\", \"olma\"])\n"
   ]
  },
  {
   "cell_type": "code",
   "execution_count": 3,
   "id": "5da2f9fa",
   "metadata": {},
   "outputs": [
    {
     "data": {
      "text/plain": [
       "False"
      ]
     },
     "execution_count": 3,
     "metadata": {},
     "output_type": "execute_result"
    }
   ],
   "source": [
    "# Agar berilgan son ikkinchi sonni bo'luvchisi bolsa true aks xolda false chiqaring\n",
    "\n",
    "def boluvchi (m,n):\n",
    "    return m%n==0\n",
    "\n",
    "boluvchi (12,8)"
   ]
  },
  {
   "cell_type": "code",
   "execution_count": 10,
   "id": "b1f12dfc",
   "metadata": {},
   "outputs": [
    {
     "data": {
      "text/plain": [
       "18"
      ]
     },
     "execution_count": 10,
     "metadata": {},
     "output_type": "execute_result"
    }
   ],
   "source": [
    "# berilgan istalgan berilgan sonlarni yigindisini topadigan\n",
    "\n",
    "def yigindi (*sonlar):\n",
    "    return sum (sonlar)\n",
    "\n",
    "yigindi(5,6,7)"
   ]
  },
  {
   "cell_type": "code",
   "execution_count": 18,
   "id": "77765320",
   "metadata": {},
   "outputs": [
    {
     "data": {
      "text/plain": [
       "'daftar'"
      ]
     },
     "execution_count": 18,
     "metadata": {},
     "output_type": "execute_result"
    }
   ],
   "source": [
    "# berilgan listdagi so'zlar ichidan eng qisqa so'zni(birinchi keladigan) toping\n",
    "\n",
    "def qisqa_sozlar(soz):\n",
    "    return min(soz)\n",
    "\n",
    "qisqa_sozlar(['daftar', 'qalam', 'komputer'])"
   ]
  },
  {
   "cell_type": "code",
   "execution_count": 19,
   "id": "81397931",
   "metadata": {},
   "outputs": [
    {
     "data": {
      "text/plain": [
       "'uylar'"
      ]
     },
     "execution_count": 19,
     "metadata": {},
     "output_type": "execute_result"
    }
   ],
   "source": [
    "# berilgan listdagi so'zlar ichidan eng uzun so'zni(birinchi keladigan) toping\n",
    "\n",
    "\n",
    "def uzun_sozlar(soz):\n",
    "    return max(soz)\n",
    "\n",
    "uzun_sozlar([\"maktab\", \"uylar\", \"mashina\"])"
   ]
  },
  {
   "cell_type": "code",
   "execution_count": 22,
   "id": "a6170424",
   "metadata": {},
   "outputs": [
    {
     "data": {
      "text/plain": [
       "False"
      ]
     },
     "execution_count": 22,
     "metadata": {},
     "output_type": "execute_result"
    }
   ],
   "source": [
    "# berilgan sonlar ichidan juftlarini topadigan \n",
    "\n",
    "def juft(sonlar):\n",
    "    return sonlar%2==0\n",
    "\n",
    "juft (7)"
   ]
  },
  {
   "cell_type": "code",
   "execution_count": 23,
   "id": "e5ce9000",
   "metadata": {},
   "outputs": [
    {
     "data": {
      "text/plain": [
       "True"
      ]
     },
     "execution_count": 23,
     "metadata": {},
     "output_type": "execute_result"
    }
   ],
   "source": [
    "# berilgan sonlar ichidan toqlarini\n",
    "\n",
    "\n",
    "def toq(sonlar):\n",
    "    return sonlar%2==1\n",
    "\n",
    "toq(5)"
   ]
  },
  {
   "cell_type": "code",
   "execution_count": null,
   "id": "5d5523a5",
   "metadata": {},
   "outputs": [
    {
     "data": {
      "text/plain": [
       "20"
      ]
     },
     "execution_count": 26,
     "metadata": {},
     "output_type": "execute_result"
    }
   ],
   "source": [
    "# berilgan sonlar ichidan juftlarini yigindisini topadigan funksiya yarating\n",
    "\n",
    "\n",
    "def juftlar_yigindisi(sonlar):\n",
    "    return sum([son for son in sonlar if son % 2 == 0])\n",
    "\n",
    "\n",
    "juftlar_yigindisi([9,8,7,6,5,4,3,2,1])\n",
    "   "
   ]
  },
  {
   "cell_type": "code",
   "execution_count": 27,
   "id": "03e9d934",
   "metadata": {},
   "outputs": [
    {
     "data": {
      "text/plain": [
       "32"
      ]
     },
     "execution_count": 27,
     "metadata": {},
     "output_type": "execute_result"
    }
   ],
   "source": [
    "# berilgan sonlar ichidan toqlarini yigindisini topadigan funksiya yarating\n",
    "\n",
    "def toqlar_yigindisi(sonlar):\n",
    "    return sum([son for son in sonlar if son % 2 == 1])\n",
    "\n",
    "toqlar_yigindisi([1,2,3,4,5,6,7,7,8,9])\n"
   ]
  },
  {
   "cell_type": "markdown",
   "id": "f83bb3cf",
   "metadata": {},
   "source": [
    "# Uyga Vazifa qoshimcha"
   ]
  },
  {
   "cell_type": "code",
   "execution_count": 3,
   "id": "31fa7682",
   "metadata": {},
   "outputs": [
    {
     "data": {
      "text/plain": [
       "'Musbat'"
      ]
     },
     "execution_count": 3,
     "metadata": {},
     "output_type": "execute_result"
    }
   ],
   "source": [
    "# son musbat yoki manfiy ekanligini aniqlang \n",
    "\n",
    "def musbat_manfiy(sonlar):\n",
    "    if sonlar > 0:\n",
    "       return \"Musbat\"\n",
    "    elif sonlar < 0:\n",
    "        return \"Manfiy\"\n",
    "    else:\n",
    "        return \"Nol\"\n",
    "\n",
    "musbat_manfiy (3)\n"
   ]
  },
  {
   "cell_type": "code",
   "execution_count": 5,
   "id": "867be87f",
   "metadata": {},
   "outputs": [
    {
     "data": {
      "text/plain": [
       "18"
      ]
     },
     "execution_count": 5,
     "metadata": {},
     "output_type": "execute_result"
    }
   ],
   "source": [
    "# Listdagi barcha sonlarning yigindisini hisoblaydigan funksiya yozing.\n",
    "\n",
    "def yigindini_hisoblash(sonlar):\n",
    "    return sum (sonlar)\n",
    "\n",
    "yigindini_hisoblash([3,4,5,6])"
   ]
  },
  {
   "cell_type": "code",
   "execution_count": 7,
   "id": "0203153a",
   "metadata": {},
   "outputs": [
    {
     "data": {
      "text/plain": [
       "False"
      ]
     },
     "execution_count": 7,
     "metadata": {},
     "output_type": "execute_result"
    }
   ],
   "source": [
    "#  Berilgan ikki sozning uzunliklari tengmi yoki yoqligini tekshiruvchi funksiya yozing.\n",
    "\n",
    "def tengmi_yoki_yoq(x,y):\n",
    "    return len (x)==len(y)\n",
    "\n",
    "tengmi_yoki_yoq(\"KOREA\", \"UZBEKISTAN\")"
   ]
  },
  {
   "cell_type": "code",
   "execution_count": 14,
   "id": "2234b20e",
   "metadata": {},
   "outputs": [
    {
     "data": {
      "text/plain": [
       "['f', 'o', 'o', 'd', 'b', 'a', 'l']"
      ]
     },
     "execution_count": 14,
     "metadata": {},
     "output_type": "execute_result"
    }
   ],
   "source": [
    "#  Berilgan  sozlarni kichik harflarga aylantirib BERUVCHI funksiya yozing\n",
    "\n",
    "def kichik_harf(sozlar):\n",
    "    return [sozlar.lower() for sozlar in sozlar]\n",
    "\n",
    "kichik_harf ('FOODBAL')"
   ]
  },
  {
   "cell_type": "code",
   "execution_count": 26,
   "id": "31e857d6",
   "metadata": {},
   "outputs": [
    {
     "data": {
      "text/plain": [
       "'holludbAyidohS'"
      ]
     },
     "execution_count": 26,
     "metadata": {},
     "output_type": "execute_result"
    }
   ],
   "source": [
    "#  Listdagi elementlarni teskari tartibda chiqarish\n",
    "\n",
    "def teskarisi(sonlar):\n",
    "    return sonlar [::-1]\n",
    "\n",
    "teskarisi (\"ShodiyAbdulloh\")"
   ]
  },
  {
   "cell_type": "code",
   "execution_count": 33,
   "id": "8d1d63c7",
   "metadata": {},
   "outputs": [
    {
     "data": {
      "text/plain": [
       "'men magister talabasiaman'"
      ]
     },
     "execution_count": 33,
     "metadata": {},
     "output_type": "execute_result"
    }
   ],
   "source": [
    "# Berilgan listdagi barcha elementlarni bir-biriga qoshib string hosil qiladigan funksiya yozing.\n",
    "\n",
    "def qoshib(matn):\n",
    "    return ''.join(matn)\n",
    "\n",
    "qoshib ([\"men\", \" \" \"magister\", \" \" \"talabasiaman\"])"
   ]
  },
  {
   "cell_type": "code",
   "execution_count": null,
   "metadata": {},
   "outputs": [],
   "source": []
  },
  {
   "cell_type": "code",
   "execution_count": null,
   "metadata": {},
   "outputs": [],
   "source": []
  },
  {
   "cell_type": "code",
   "execution_count": null,
   "metadata": {},
   "outputs": [],
   "source": []
  }
 ],
 "metadata": {
  "kernelspec": {
   "display_name": "Python 3",
   "language": "python",
   "name": "python3"
  },
  "language_info": {
   "codemirror_mode": {
    "name": "ipython",
    "version": 3
   },
   "file_extension": ".py",
   "mimetype": "text/x-python",
   "name": "python",
   "nbconvert_exporter": "python",
   "pygments_lexer": "ipython3",
   "version": "3.13.2"
  }
 },
 "nbformat": 4,
 "nbformat_minor": 5
}
